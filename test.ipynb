{
 "cells": [
  {
   "cell_type": "code",
   "execution_count": 4,
   "metadata": {},
   "outputs": [],
   "source": [
    "import time\n",
    "import serial\n",
    "import serial.tools.list_ports as port_list"
   ]
  },
  {
   "cell_type": "code",
   "execution_count": null,
   "metadata": {},
   "outputs": [],
   "source": [
    "all_ports = list(port_list.comports())\n",
    "pos_ports = [p.device for p in all_ports  if \"COM4\" in p.description]\n",
    "[print(p.description) for p in all_ports]"
   ]
  },
  {
   "cell_type": "code",
   "execution_count": null,
   "metadata": {},
   "outputs": [],
   "source": [
    "## Search for Suitable Port\n",
    "print(pos_ports)\n",
    "if pos_ports != []:\n",
    "    for port in pos_ports: \n",
    "        print(\".\")\n",
    "        try:      ard = serial.Serial(port, 115200, timeout=0.1, write_timeout=0.1, inter_byte_timeout=0.1)\n",
    "        except:   continue\n",
    "        #ard = serial.Serial(port, 115200, timeout=0.1, write_timeout=0.1, inter_byte_timeout=0.1)\n",
    "        print(\"trying\", port, \"...\", end=\"\")\n",
    "        response = read_info(ard)\n",
    "        print(response, \"...\", end=\"\")\n",
    "\n",
    "        if response == \"\":\n",
    "            print(\" No response\")\n",
    "            ard.close()\n",
    "            ard = None\n",
    "            continue\n",
    "\n",
    "        if response.find(\"HangingArm\"): \n",
    "            print(\"Port Found: \", port)\n",
    "            break\n",
    "        else:  \n",
    "            print(\"Invalid response\")\n",
    "            ard.close()\n",
    "            ard = None\n",
    "else:\n",
    "    ard = None\n",
    "print(\"succes\")\n",
    "\n",
    "def read_info(ard):\n",
    "\n",
    "    for _ in range(10): \n",
    "        response = ard.readline().decode(\"utf-8\").split(\"\\r\")[0]\n",
    "        if response == \"\":\n",
    "            print(\".\",end=\"\")\n",
    "        if response == \"Startup\":\n",
    "            print(\"Starting up device\")\n",
    "            time.sleep(.1)\n",
    "            break         \n",
    "    #ard.write(b\"Info\\r\\n\")\n",
    "    Info = ard.readline().decode(\"utf-8\").split(\"\\r\")[0]\n",
    "\n",
    "    print(\"Device Info: \"+ Info)  "
   ]
  },
  {
   "cell_type": "code",
   "execution_count": null,
   "metadata": {},
   "outputs": [],
   "source": [
    "print(ard)"
   ]
  },
  {
   "cell_type": "code",
   "execution_count": null,
   "metadata": {},
   "outputs": [],
   "source": [
    "ard.write(b\"\\r\\n\\r\\n\")\n",
    "time.sleep(2)\n",
    "ard.flushInput()"
   ]
  }
 ],
 "metadata": {
  "kernelspec": {
   "display_name": "master",
   "language": "python",
   "name": "python3"
  },
  "language_info": {
   "codemirror_mode": {
    "name": "ipython",
    "version": 3
   },
   "file_extension": ".py",
   "mimetype": "text/x-python",
   "name": "python",
   "nbconvert_exporter": "python",
   "pygments_lexer": "ipython3",
   "version": "3.10.11"
  },
  "orig_nbformat": 4
 },
 "nbformat": 4,
 "nbformat_minor": 2
}
